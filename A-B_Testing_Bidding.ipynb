{
 "cells": [
  {
   "cell_type": "markdown",
   "id": "26d975eb",
   "metadata": {},
   "source": [
    "# A-B_Testing\n",
    "\n",
    "At its simplest, A/B testing is a method for comparing 2 versions of something against each other to discover which is the most successful. The something can be an image, a button, a headline, or beyond.\n",
    "\n",
    "### Business Problem:\n",
    "\n",
    "Facebook recently introduced a new bidding type, 'average bidding',\n",
    "as an alternative to the existing bidding type called 'maximum bidding'.\n",
    "One of our clients, Company_X, decided to test this new feature and\n",
    "would like to do an A/B test to see if average bidding converts more than maximum bidding.\n",
    "The A/B test has been going on for 1 month and Company_X is now\n",
    "waiting for to analyze the results of this A/B test.\n",
    "The ultimate success criterion for Company_X is Purchase.\n",
    "Therefore, the focus should be on the Purchase metric for statistical testing.<br>\n",
    "\n",
    "In this data set, which includes the website information of a company,\n",
    "there is information such as the number of advertisements that users see\n",
    "and click, as well as earnings information from here. There are two separate\n",
    "data sets, the Control and Test group. These datasets are in separate sheets\n",
    "of the ab_testing.xlsx excel. Maximum Bidding was applied to the control group\n",
    "and Average Bidding was applied to the test group.\n",
    "\n",
    "#### Data Features:\n",
    "Impression: Ad views<br>\n",
    "Click: Number of clicks on the displayed ad<br>\n",
    "Purchase: The number of products purchased after the ads clicked<br>\n",
    "Earning: Earnings after purchased products<br>"
   ]
  },
  {
   "attachments": {
    "AB_test.png": {
     "image/png": "[encoded data removed]"
    }
   },
   "cell_type": "markdown",
   "id": "119a1863",
   "metadata": {},
   "source": [
    "![AB_test.png](attachment:AB_test.png)"
   ]
  },
  {
   "cell_type": "markdown",
   "id": "39369ce1",
   "metadata": {},
   "source": [
    "## 1. Importing the Libraries and Uploading Dataset\n"
   ]
  },
  {
   "cell_type": "code",
   "execution_count": 1,
   "id": "83079e08",
   "metadata": {},
   "outputs": [],
   "source": [
    "import pandas as pd\n",
    "import numpy as np\n",
    "import seaborn as sns\n",
    "import matplotlib.pyplot as plt\n",
    "from scipy.stats import ttest_1samp, shapiro, mannwhitneyu, f_oneway, levene, kendalltau, ttest_ind\n",
    "from statsmodels.stats.proportion import proportions_ztest\n",
    "import statsmodels.stats.api as sms\n",
    "\n",
    "pd.set_option('display.max_columns', None)\n",
    "pd.set_option('display.width', 1000)\n",
    "pd.set_option('display.max_rows', 10)\n",
    "pd.set_option('display.float_format', lambda x: '%.3f' % x)"
   ]
  },
  {
   "cell_type": "code",
   "execution_count": 2,
   "id": "b7e1a7e0",
   "metadata": {},
   "outputs": [],
   "source": [
    "df_max_bid = pd.read_excel('ab_testing.xlsx', 'Control Group')\n",
    "df_avg_bid = pd.read_excel('ab_testing.xlsx', 'Test Group')"
   ]
  },
  {
   "cell_type": "code",
   "execution_count": 3,
   "id": "59105b2e",
   "metadata": {},
   "outputs": [
    {
     "data": {
      "text/html": [
       "<div>\n",
       "<style scoped>\n",
       "    .dataframe tbody tr th:only-of-type {\n",
       "        vertical-align: middle;\n",
       "    }\n",
       "\n",
       "    .dataframe tbody tr th {\n",
       "        vertical-align: top;\n",
       "    }\n",
       "\n",
       "    .dataframe thead th {\n",
       "        text-align: right;\n",
       "    }\n",
       "</style>\n",
       "<table border=\"1\" class=\"dataframe\">\n",
       "  <thead>\n",
       "    <tr style=\"text-align: right;\">\n",
       "      <th></th>\n",
       "      <th>Impression</th>\n",
       "      <th>Click</th>\n",
       "      <th>Purchase</th>\n",
       "      <th>Earning</th>\n",
       "    </tr>\n",
       "  </thead>\n",
       "  <tbody>\n",
       "    <tr>\n",
       "      <th>0</th>\n",
       "      <td>82529.459</td>\n",
       "      <td>6090.077</td>\n",
       "      <td>665.211</td>\n",
       "      <td>2311.277</td>\n",
       "    </tr>\n",
       "    <tr>\n",
       "      <th>1</th>\n",
       "      <td>98050.452</td>\n",
       "      <td>3382.862</td>\n",
       "      <td>315.085</td>\n",
       "      <td>1742.807</td>\n",
       "    </tr>\n",
       "    <tr>\n",
       "      <th>2</th>\n",
       "      <td>82696.024</td>\n",
       "      <td>4167.966</td>\n",
       "      <td>458.084</td>\n",
       "      <td>1797.827</td>\n",
       "    </tr>\n",
       "    <tr>\n",
       "      <th>3</th>\n",
       "      <td>109914.400</td>\n",
       "      <td>4910.882</td>\n",
       "      <td>487.091</td>\n",
       "      <td>1696.229</td>\n",
       "    </tr>\n",
       "    <tr>\n",
       "      <th>4</th>\n",
       "      <td>108457.763</td>\n",
       "      <td>5987.656</td>\n",
       "      <td>441.034</td>\n",
       "      <td>1543.720</td>\n",
       "    </tr>\n",
       "  </tbody>\n",
       "</table>\n",
       "</div>"
      ],
      "text/plain": [
       "   Impression    Click  Purchase  Earning\n",
       "0   82529.459 6090.077   665.211 2311.277\n",
       "1   98050.452 3382.862   315.085 1742.807\n",
       "2   82696.024 4167.966   458.084 1797.827\n",
       "3  109914.400 4910.882   487.091 1696.229\n",
       "4  108457.763 5987.656   441.034 1543.720"
      ]
     },
     "execution_count": 3,
     "metadata": {},
     "output_type": "execute_result"
    }
   ],
   "source": [
    "df_max_bid.head()"
   ]
  },
  {
   "cell_type": "code",
   "execution_count": 4,
   "id": "d6da935a",
   "metadata": {},
   "outputs": [
    {
     "data": {
      "text/html": [
       "<div>\n",
       "<style scoped>\n",
       "    .dataframe tbody tr th:only-of-type {\n",
       "        vertical-align: middle;\n",
       "    }\n",
       "\n",
       "    .dataframe tbody tr th {\n",
       "        vertical-align: top;\n",
       "    }\n",
       "\n",
       "    .dataframe thead th {\n",
       "        text-align: right;\n",
       "    }\n",
       "</style>\n",
       "<table border=\"1\" class=\"dataframe\">\n",
       "  <thead>\n",
       "    <tr style=\"text-align: right;\">\n",
       "      <th></th>\n",
       "      <th>Impression</th>\n",
       "      <th>Click</th>\n",
       "      <th>Purchase</th>\n",
       "      <th>Earning</th>\n",
       "    </tr>\n",
       "  </thead>\n",
       "  <tbody>\n",
       "    <tr>\n",
       "      <th>0</th>\n",
       "      <td>120103.504</td>\n",
       "      <td>3216.548</td>\n",
       "      <td>702.160</td>\n",
       "      <td>1939.611</td>\n",
       "    </tr>\n",
       "    <tr>\n",
       "      <th>1</th>\n",
       "      <td>134775.943</td>\n",
       "      <td>3635.082</td>\n",
       "      <td>834.054</td>\n",
       "      <td>2929.406</td>\n",
       "    </tr>\n",
       "    <tr>\n",
       "      <th>2</th>\n",
       "      <td>107806.621</td>\n",
       "      <td>3057.144</td>\n",
       "      <td>422.934</td>\n",
       "      <td>2526.245</td>\n",
       "    </tr>\n",
       "    <tr>\n",
       "      <th>3</th>\n",
       "      <td>116445.276</td>\n",
       "      <td>4650.474</td>\n",
       "      <td>429.034</td>\n",
       "      <td>2281.429</td>\n",
       "    </tr>\n",
       "    <tr>\n",
       "      <th>4</th>\n",
       "      <td>145082.517</td>\n",
       "      <td>5201.388</td>\n",
       "      <td>749.860</td>\n",
       "      <td>2781.698</td>\n",
       "    </tr>\n",
       "  </tbody>\n",
       "</table>\n",
       "</div>"
      ],
      "text/plain": [
       "   Impression    Click  Purchase  Earning\n",
       "0  120103.504 3216.548   702.160 1939.611\n",
       "1  134775.943 3635.082   834.054 2929.406\n",
       "2  107806.621 3057.144   422.934 2526.245\n",
       "3  116445.276 4650.474   429.034 2281.429\n",
       "4  145082.517 5201.388   749.860 2781.698"
      ]
     },
     "execution_count": 4,
     "metadata": {},
     "output_type": "execute_result"
    }
   ],
   "source": [
    "df_avg_bid.head()"
   ]
  },
  {
   "cell_type": "markdown",
   "id": "96da625a",
   "metadata": {},
   "source": [
    "## 2. General Information About Dataset"
   ]
  },
  {
   "cell_type": "code",
   "execution_count": 5,
   "id": "7ed38c1e",
   "metadata": {},
   "outputs": [],
   "source": [
    "# let's define a function for getting general information from a dataset.\n",
    "def gen_info(df, box=True, column=\"Purchase\"):\n",
    "    print(\"###############################    Shape  ##################################\")\n",
    "    print(df.shape)\n",
    "    print(\"###############################    Types  ##################################\")\n",
    "    print(df.dtypes)\n",
    "    print(\"###############################    Head   ##################################\")\n",
    "    print(df.head())\n",
    "    print(\"###############################    Tail   ##################################\")\n",
    "    print(df.tail())\n",
    "    print(\"###############################    NA     ##################################\")\n",
    "    print(df.isnull().sum())\n",
    "    print(\"############################### Quantiles ##################################\")\n",
    "    print(df.describe([0.01, 0.05, 0.50, 0.95, 0.99]).T)\n",
    "    print(\"############################### BOX PLOT  ##################################\")\n",
    "    if box == True:\n",
    "        sns.boxplot(x=df[column])\n",
    "        print(plt.show())"
   ]
  },
  {
   "cell_type": "code",
   "execution_count": 6,
   "id": "ac942b23",
   "metadata": {},
   "outputs": [
    {
     "name": "stdout",
     "output_type": "stream",
     "text": [
      "###############################    Shape  ##################################\n",
      "(40, 4)\n",
      "###############################    Types  ##################################\n",
      "Impression    float64\n",
      "Click         float64\n",
      "Purchase      float64\n",
      "Earning       float64\n",
      "dtype: object\n",
      "###############################    Head   ##################################\n",
      "   Impression    Click  Purchase  Earning\n",
      "0   82529.459 6090.077   665.211 2311.277\n",
      "1   98050.452 3382.862   315.085 1742.807\n",
      "2   82696.024 4167.966   458.084 1797.827\n",
      "3  109914.400 4910.882   487.091 1696.229\n",
      "4  108457.763 5987.656   441.034 1543.720\n",
      "###############################    Tail   ##################################\n",
      "    Impression    Click  Purchase  Earning\n",
      "35  132064.219 3747.158   551.072 2256.976\n",
      "36   86409.942 4608.256   345.046 1781.358\n",
      "37  123678.934 3649.074   476.168 2187.721\n",
      "38  101997.494 4736.353   474.614 2254.564\n",
      "39  121085.881 4285.179   590.406 1289.309\n",
      "###############################    NA     ##################################\n",
      "Impression    0\n",
      "Click         0\n",
      "Purchase      0\n",
      "Earning       0\n",
      "dtype: int64\n",
      "############################### Quantiles ##################################\n",
      "            count       mean       std       min        1%        5%       50%        95%        99%        max\n",
      "Impression 40.000 101711.449 20302.158 45475.943 58072.042 79412.018 99790.701 132950.532 143105.791 147539.336\n",
      "Click      40.000   5100.657  1329.985  2189.753  2535.121  3367.484  5001.221   7374.361   7761.795   7959.125\n",
      "Purchase   40.000    550.894   134.108   267.029   285.771   328.662   531.206    748.271    790.188    801.795\n",
      "Earning    40.000   1908.568   302.918  1253.990  1267.764  1329.577  1975.161   2318.528   2481.309   2497.295\n",
      "############################### BOX PLOT  ##################################\n"
     ]
    },
    {
     "data": {
      "image/png": "[encoded data removed]",
      "text/plain": [
       "<Figure size 432x288 with 1 Axes>"
      ]
     },
     "metadata": {
      "needs_background": "light"
     },
     "output_type": "display_data"
    },
    {
     "name": "stdout",
     "output_type": "stream",
     "text": [
      "None\n"
     ]
    }
   ],
   "source": [
    "gen_info(df_max_bid)"
   ]
  },
  {
   "cell_type": "code",
   "execution_count": 7,
   "id": "ad5cd9cd",
   "metadata": {},
   "outputs": [
    {
     "name": "stdout",
     "output_type": "stream",
     "text": [
      "###############################    Shape  ##################################\n",
      "(40, 4)\n",
      "###############################    Types  ##################################\n",
      "Impression    float64\n",
      "Click         float64\n",
      "Purchase      float64\n",
      "Earning       float64\n",
      "dtype: object\n",
      "###############################    Head   ##################################\n",
      "   Impression    Click  Purchase  Earning\n",
      "0  120103.504 3216.548   702.160 1939.611\n",
      "1  134775.943 3635.082   834.054 2929.406\n",
      "2  107806.621 3057.144   422.934 2526.245\n",
      "3  116445.276 4650.474   429.034 2281.429\n",
      "4  145082.517 5201.388   749.860 2781.698\n",
      "###############################    Tail   ##################################\n",
      "    Impression    Click  Purchase  Earning\n",
      "35   79234.912 6002.214   382.047 2277.864\n",
      "36  130702.239 3626.320   449.825 2530.841\n",
      "37  116481.873 4702.782   472.454 2597.918\n",
      "38   79033.835 4495.428   425.359 2595.858\n",
      "39  102257.454 4800.068   521.311 2967.518\n",
      "###############################    NA     ##################################\n",
      "Impression    0\n",
      "Click         0\n",
      "Purchase      0\n",
      "Earning       0\n",
      "dtype: int64\n",
      "############################### Quantiles ##################################\n",
      "            count       mean       std       min        1%        5%        50%        95%        99%        max\n",
      "Impression 40.000 120512.412 18807.449 79033.835 79112.255 83150.504 119291.301 153178.691 158245.264 158605.920\n",
      "Click      40.000   3967.550   923.095  1836.630  2005.234  2600.361   3931.360   5271.187   6012.877   6019.695\n",
      "Purchase   40.000    582.106   161.153   311.630   325.214   356.695    551.356    854.209    876.576    889.910\n",
      "Earning    40.000   2514.891   282.731  1939.611  1942.784  2080.976   2544.666   2931.311   3091.941   3171.490\n",
      "############################### BOX PLOT  ##################################\n"
     ]
    },
    {
     "data": {
      "image/png": "[encoded data removed]",
      "text/plain": [
       "<Figure size 432x288 with 1 Axes>"
      ]
     },
     "metadata": {
      "needs_background": "light"
     },
     "output_type": "display_data"
    },
    {
     "name": "stdout",
     "output_type": "stream",
     "text": [
      "None\n"
     ]
    }
   ],
   "source": [
    "gen_info(df_avg_bid)"
   ]
  },
  {
   "cell_type": "markdown",
   "id": "b66181af",
   "metadata": {},
   "source": [
    "It seems there are no missing values or outliers in the datasets."
   ]
  },
  {
   "cell_type": "markdown",
   "id": "54d537fc",
   "metadata": {},
   "source": [
    "## 3. Concat the frames before A-B Testing"
   ]
  },
  {
   "cell_type": "code",
   "execution_count": 8,
   "id": "3d687196",
   "metadata": {},
   "outputs": [
    {
     "data": {
      "text/html": [
       "<div>\n",
       "<style scoped>\n",
       "    .dataframe tbody tr th:only-of-type {\n",
       "        vertical-align: middle;\n",
       "    }\n",
       "\n",
       "    .dataframe tbody tr th {\n",
       "        vertical-align: top;\n",
       "    }\n",
       "\n",
       "    .dataframe thead th {\n",
       "        text-align: right;\n",
       "    }\n",
       "</style>\n",
       "<table border=\"1\" class=\"dataframe\">\n",
       "  <thead>\n",
       "    <tr style=\"text-align: right;\">\n",
       "      <th></th>\n",
       "      <th>Impression</th>\n",
       "      <th>Click</th>\n",
       "      <th>Purchase</th>\n",
       "      <th>Earning</th>\n",
       "      <th>Group</th>\n",
       "    </tr>\n",
       "  </thead>\n",
       "  <tbody>\n",
       "    <tr>\n",
       "      <th>0</th>\n",
       "      <td>82529.459</td>\n",
       "      <td>6090.077</td>\n",
       "      <td>665.211</td>\n",
       "      <td>2311.277</td>\n",
       "      <td>Max</td>\n",
       "    </tr>\n",
       "    <tr>\n",
       "      <th>1</th>\n",
       "      <td>98050.452</td>\n",
       "      <td>3382.862</td>\n",
       "      <td>315.085</td>\n",
       "      <td>1742.807</td>\n",
       "      <td>Max</td>\n",
       "    </tr>\n",
       "    <tr>\n",
       "      <th>2</th>\n",
       "      <td>82696.024</td>\n",
       "      <td>4167.966</td>\n",
       "      <td>458.084</td>\n",
       "      <td>1797.827</td>\n",
       "      <td>Max</td>\n",
       "    </tr>\n",
       "    <tr>\n",
       "      <th>3</th>\n",
       "      <td>109914.400</td>\n",
       "      <td>4910.882</td>\n",
       "      <td>487.091</td>\n",
       "      <td>1696.229</td>\n",
       "      <td>Max</td>\n",
       "    </tr>\n",
       "    <tr>\n",
       "      <th>4</th>\n",
       "      <td>108457.763</td>\n",
       "      <td>5987.656</td>\n",
       "      <td>441.034</td>\n",
       "      <td>1543.720</td>\n",
       "      <td>Max</td>\n",
       "    </tr>\n",
       "  </tbody>\n",
       "</table>\n",
       "</div>"
      ],
      "text/plain": [
       "   Impression    Click  Purchase  Earning Group\n",
       "0   82529.459 6090.077   665.211 2311.277   Max\n",
       "1   98050.452 3382.862   315.085 1742.807   Max\n",
       "2   82696.024 4167.966   458.084 1797.827   Max\n",
       "3  109914.400 4910.882   487.091 1696.229   Max\n",
       "4  108457.763 5987.656   441.034 1543.720   Max"
      ]
     },
     "execution_count": 8,
     "metadata": {},
     "output_type": "execute_result"
    }
   ],
   "source": [
    "df_max_bid[\"Group\"] = \"Max\"\n",
    "df_max_bid.head()"
   ]
  },
  {
   "cell_type": "code",
   "execution_count": 9,
   "id": "9e2d2f7d",
   "metadata": {},
   "outputs": [
    {
     "data": {
      "text/html": [
       "<div>\n",
       "<style scoped>\n",
       "    .dataframe tbody tr th:only-of-type {\n",
       "        vertical-align: middle;\n",
       "    }\n",
       "\n",
       "    .dataframe tbody tr th {\n",
       "        vertical-align: top;\n",
       "    }\n",
       "\n",
       "    .dataframe thead th {\n",
       "        text-align: right;\n",
       "    }\n",
       "</style>\n",
       "<table border=\"1\" class=\"dataframe\">\n",
       "  <thead>\n",
       "    <tr style=\"text-align: right;\">\n",
       "      <th></th>\n",
       "      <th>Impression</th>\n",
       "      <th>Click</th>\n",
       "      <th>Purchase</th>\n",
       "      <th>Earning</th>\n",
       "      <th>Group</th>\n",
       "    </tr>\n",
       "  </thead>\n",
       "  <tbody>\n",
       "    <tr>\n",
       "      <th>0</th>\n",
       "      <td>120103.504</td>\n",
       "      <td>3216.548</td>\n",
       "      <td>702.160</td>\n",
       "      <td>1939.611</td>\n",
       "      <td>Avg</td>\n",
       "    </tr>\n",
       "    <tr>\n",
       "      <th>1</th>\n",
       "      <td>134775.943</td>\n",
       "      <td>3635.082</td>\n",
       "      <td>834.054</td>\n",
       "      <td>2929.406</td>\n",
       "      <td>Avg</td>\n",
       "    </tr>\n",
       "    <tr>\n",
       "      <th>2</th>\n",
       "      <td>107806.621</td>\n",
       "      <td>3057.144</td>\n",
       "      <td>422.934</td>\n",
       "      <td>2526.245</td>\n",
       "      <td>Avg</td>\n",
       "    </tr>\n",
       "    <tr>\n",
       "      <th>3</th>\n",
       "      <td>116445.276</td>\n",
       "      <td>4650.474</td>\n",
       "      <td>429.034</td>\n",
       "      <td>2281.429</td>\n",
       "      <td>Avg</td>\n",
       "    </tr>\n",
       "    <tr>\n",
       "      <th>4</th>\n",
       "      <td>145082.517</td>\n",
       "      <td>5201.388</td>\n",
       "      <td>749.860</td>\n",
       "      <td>2781.698</td>\n",
       "      <td>Avg</td>\n",
       "    </tr>\n",
       "  </tbody>\n",
       "</table>\n",
       "</div>"
      ],
      "text/plain": [
       "   Impression    Click  Purchase  Earning Group\n",
       "0  120103.504 3216.548   702.160 1939.611   Avg\n",
       "1  134775.943 3635.082   834.054 2929.406   Avg\n",
       "2  107806.621 3057.144   422.934 2526.245   Avg\n",
       "3  116445.276 4650.474   429.034 2281.429   Avg\n",
       "4  145082.517 5201.388   749.860 2781.698   Avg"
      ]
     },
     "execution_count": 9,
     "metadata": {},
     "output_type": "execute_result"
    }
   ],
   "source": [
    "df_avg_bid[\"Group\"] = \"Avg\"\n",
    "df_avg_bid.head()"
   ]
  },
  {
   "cell_type": "code",
   "execution_count": 10,
   "id": "876e8fa2",
   "metadata": {},
   "outputs": [
    {
     "data": {
      "text/html": [
       "<div>\n",
       "<style scoped>\n",
       "    .dataframe tbody tr th:only-of-type {\n",
       "        vertical-align: middle;\n",
       "    }\n",
       "\n",
       "    .dataframe tbody tr th {\n",
       "        vertical-align: top;\n",
       "    }\n",
       "\n",
       "    .dataframe thead th {\n",
       "        text-align: right;\n",
       "    }\n",
       "</style>\n",
       "<table border=\"1\" class=\"dataframe\">\n",
       "  <thead>\n",
       "    <tr style=\"text-align: right;\">\n",
       "      <th></th>\n",
       "      <th>Impression</th>\n",
       "      <th>Click</th>\n",
       "      <th>Purchase</th>\n",
       "      <th>Earning</th>\n",
       "      <th>Group</th>\n",
       "    </tr>\n",
       "  </thead>\n",
       "  <tbody>\n",
       "    <tr>\n",
       "      <th>0</th>\n",
       "      <td>82529.459</td>\n",
       "      <td>6090.077</td>\n",
       "      <td>665.211</td>\n",
       "      <td>2311.277</td>\n",
       "      <td>Max</td>\n",
       "    </tr>\n",
       "    <tr>\n",
       "      <th>1</th>\n",
       "      <td>98050.452</td>\n",
       "      <td>3382.862</td>\n",
       "      <td>315.085</td>\n",
       "      <td>1742.807</td>\n",
       "      <td>Max</td>\n",
       "    </tr>\n",
       "    <tr>\n",
       "      <th>2</th>\n",
       "      <td>82696.024</td>\n",
       "      <td>4167.966</td>\n",
       "      <td>458.084</td>\n",
       "      <td>1797.827</td>\n",
       "      <td>Max</td>\n",
       "    </tr>\n",
       "    <tr>\n",
       "      <th>3</th>\n",
       "      <td>109914.400</td>\n",
       "      <td>4910.882</td>\n",
       "      <td>487.091</td>\n",
       "      <td>1696.229</td>\n",
       "      <td>Max</td>\n",
       "    </tr>\n",
       "    <tr>\n",
       "      <th>4</th>\n",
       "      <td>108457.763</td>\n",
       "      <td>5987.656</td>\n",
       "      <td>441.034</td>\n",
       "      <td>1543.720</td>\n",
       "      <td>Max</td>\n",
       "    </tr>\n",
       "    <tr>\n",
       "      <th>...</th>\n",
       "      <td>...</td>\n",
       "      <td>...</td>\n",
       "      <td>...</td>\n",
       "      <td>...</td>\n",
       "      <td>...</td>\n",
       "    </tr>\n",
       "    <tr>\n",
       "      <th>75</th>\n",
       "      <td>79234.912</td>\n",
       "      <td>6002.214</td>\n",
       "      <td>382.047</td>\n",
       "      <td>2277.864</td>\n",
       "      <td>Avg</td>\n",
       "    </tr>\n",
       "    <tr>\n",
       "      <th>76</th>\n",
       "      <td>130702.239</td>\n",
       "      <td>3626.320</td>\n",
       "      <td>449.825</td>\n",
       "      <td>2530.841</td>\n",
       "      <td>Avg</td>\n",
       "    </tr>\n",
       "    <tr>\n",
       "      <th>77</th>\n",
       "      <td>116481.873</td>\n",
       "      <td>4702.782</td>\n",
       "      <td>472.454</td>\n",
       "      <td>2597.918</td>\n",
       "      <td>Avg</td>\n",
       "    </tr>\n",
       "    <tr>\n",
       "      <th>78</th>\n",
       "      <td>79033.835</td>\n",
       "      <td>4495.428</td>\n",
       "      <td>425.359</td>\n",
       "      <td>2595.858</td>\n",
       "      <td>Avg</td>\n",
       "    </tr>\n",
       "    <tr>\n",
       "      <th>79</th>\n",
       "      <td>102257.454</td>\n",
       "      <td>4800.068</td>\n",
       "      <td>521.311</td>\n",
       "      <td>2967.518</td>\n",
       "      <td>Avg</td>\n",
       "    </tr>\n",
       "  </tbody>\n",
       "</table>\n",
       "<p>80 rows × 5 columns</p>\n",
       "</div>"
      ],
      "text/plain": [
       "    Impression    Click  Purchase  Earning Group\n",
       "0    82529.459 6090.077   665.211 2311.277   Max\n",
       "1    98050.452 3382.862   315.085 1742.807   Max\n",
       "2    82696.024 4167.966   458.084 1797.827   Max\n",
       "3   109914.400 4910.882   487.091 1696.229   Max\n",
       "4   108457.763 5987.656   441.034 1543.720   Max\n",
       "..         ...      ...       ...      ...   ...\n",
       "75   79234.912 6002.214   382.047 2277.864   Avg\n",
       "76  130702.239 3626.320   449.825 2530.841   Avg\n",
       "77  116481.873 4702.782   472.454 2597.918   Avg\n",
       "78   79033.835 4495.428   425.359 2595.858   Avg\n",
       "79  102257.454 4800.068   521.311 2967.518   Avg\n",
       "\n",
       "[80 rows x 5 columns]"
      ]
     },
     "execution_count": 10,
     "metadata": {},
     "output_type": "execute_result"
    }
   ],
   "source": [
    "# Merging datasets\n",
    "df = pd.concat([df_max_bid, df_avg_bid],ignore_index=True)\n",
    "df"
   ]
  },
  {
   "cell_type": "markdown",
   "id": "7825b424",
   "metadata": {},
   "source": [
    "## 4. Defining the A/B Test Hypothesis\n",
    "\n",
    "H0: M1 = M2\n",
    "\n",
    "H0: There is **no** statistically significant difference between the average purchase earned, by the maximum bidding strategy and the average bidding strategy.\n",
    "\n",
    "H1: M1 != M2\n",
    "\n",
    "H1:  There is statistically significant difference between the average purchase earned, by the maximum bidding strategy and the average bidding strategy."
   ]
  },
  {
   "cell_type": "code",
   "execution_count": 11,
   "id": "d3d98c98",
   "metadata": {},
   "outputs": [
    {
     "name": "stdout",
     "output_type": "stream",
     "text": [
      " Mean of purchase of maximum bidding group: 550.8941 \n",
      " Mean of purchase of average bidding group: 582.1061\n"
     ]
    }
   ],
   "source": [
    "print(\" Mean of purchase of maximum bidding group: %.4f\" %df_max_bid['Purchase'].mean(), \"\\n\",\n",
    "      \"Mean of purchase of average bidding group: %.4f\"  %df_avg_bid['Purchase'].mean())"
   ]
  },
  {
   "cell_type": "code",
   "execution_count": 12,
   "id": "fa6733a0",
   "metadata": {},
   "outputs": [
    {
     "data": {
      "text/html": [
       "<div>\n",
       "<style scoped>\n",
       "    .dataframe tbody tr th:only-of-type {\n",
       "        vertical-align: middle;\n",
       "    }\n",
       "\n",
       "    .dataframe tbody tr th {\n",
       "        vertical-align: top;\n",
       "    }\n",
       "\n",
       "    .dataframe thead tr th {\n",
       "        text-align: left;\n",
       "    }\n",
       "\n",
       "    .dataframe thead tr:last-of-type th {\n",
       "        text-align: right;\n",
       "    }\n",
       "</style>\n",
       "<table border=\"1\" class=\"dataframe\">\n",
       "  <thead>\n",
       "    <tr>\n",
       "      <th></th>\n",
       "      <th colspan=\"2\" halign=\"left\">Purchase</th>\n",
       "    </tr>\n",
       "    <tr>\n",
       "      <th></th>\n",
       "      <th>mean</th>\n",
       "      <th>median</th>\n",
       "    </tr>\n",
       "    <tr>\n",
       "      <th>Group</th>\n",
       "      <th></th>\n",
       "      <th></th>\n",
       "    </tr>\n",
       "  </thead>\n",
       "  <tbody>\n",
       "    <tr>\n",
       "      <th>Avg</th>\n",
       "      <td>582.106</td>\n",
       "      <td>551.356</td>\n",
       "    </tr>\n",
       "    <tr>\n",
       "      <th>Max</th>\n",
       "      <td>550.894</td>\n",
       "      <td>531.206</td>\n",
       "    </tr>\n",
       "  </tbody>\n",
       "</table>\n",
       "</div>"
      ],
      "text/plain": [
       "      Purchase        \n",
       "          mean  median\n",
       "Group                 \n",
       "Avg    582.106 551.356\n",
       "Max    550.894 531.206"
      ]
     },
     "execution_count": 12,
     "metadata": {},
     "output_type": "execute_result"
    }
   ],
   "source": [
    "# or we can check this information with new df using groupby\n",
    "df.groupby('Group').agg({'Purchase' : ['mean', 'median']})"
   ]
  },
  {
   "cell_type": "markdown",
   "id": "c4ce7fb9",
   "metadata": {},
   "source": [
    "Mean purchase values of Avg and Max bidding seem different, but is it really? :)\n",
    "\n",
    "We do not know whether this difference is statistically significant. To understand this, we must apply hypothesis testing."
   ]
  },
  {
   "cell_type": "markdown",
   "id": "d04cd534",
   "metadata": {},
   "source": [
    "## 5. Performing Hypothesis Testing\n",
    "\n",
    "Let's check the assumptions before testing the hypothesis.\n",
    "\n",
    "These are Assumption of **Normality** and **Homogeneity** of Variance. We have to test separately whether the control and test group comply with the normality assumption through the Purchase variable.\n",
    "\n",
    "### 5.1 Normality Assumption\n",
    "\n",
    "H0: There is no statistically significant difference between sample distribution and theoretical normal distribution<br>\n",
    "H1: There is statistically significant difference between sample distribution and theoretical normal distribution \n",
    "\n",
    "p-value < 0.05 (H0 rejected)<br>\n",
    "p-value > 0.05 (H0 not rejected)"
   ]
  },
  {
   "cell_type": "code",
   "execution_count": 13,
   "id": "77a8f208",
   "metadata": {},
   "outputs": [
    {
     "name": "stdout",
     "output_type": "stream",
     "text": [
      "Test Stat = 0.9589, p-value = 0.1541\n"
     ]
    }
   ],
   "source": [
    "tstat, pval = shapiro(df.loc[df[\"Group\"] == \"Avg\", 'Purchase'])\n",
    "print('Test Stat = %.4f, p-value = %.4f' % (tstat, pval)) # p-value is not less than 0.05"
   ]
  },
  {
   "cell_type": "code",
   "execution_count": 14,
   "id": "b5aff8d9",
   "metadata": {},
   "outputs": [
    {
     "name": "stdout",
     "output_type": "stream",
     "text": [
      "Test Stat = 0.9773, p-value = 0.5891\n"
     ]
    }
   ],
   "source": [
    "tstat, pval = shapiro(df.loc[df[\"Group\"] == \"Max\", 'Purchase'])\n",
    "print('Test Stat = %.4f, p-value = %.4f' % (tstat, pval)) # p-value is not less than 0.05"
   ]
  },
  {
   "cell_type": "markdown",
   "id": "8a38eb07",
   "metadata": {},
   "source": [
    "Since the p value is not less than 0.05, the assumption of normality is provided."
   ]
  },
  {
   "cell_type": "markdown",
   "id": "3253bfbd",
   "metadata": {},
   "source": [
    "### 5.2 Variance Assumption\n",
    "\n",
    "H0: the compared groups have equal variance.<br>\n",
    "H1: the compared groups do not have equal variance. \n",
    "\n",
    "p-value < 0.05 (H0 rejected)<br>\n",
    "p-value > 0.05 (H0 not rejected)"
   ]
  },
  {
   "cell_type": "code",
   "execution_count": 15,
   "id": "342de2dd",
   "metadata": {},
   "outputs": [
    {
     "name": "stdout",
     "output_type": "stream",
     "text": [
      "Test Stat = 2.6393, p-value = 0.1083\n"
     ]
    }
   ],
   "source": [
    "tstat, pvalue = levene(df.loc[df[\"Group\"] == \"Avg\", 'Purchase'],\n",
    "                        df.loc[df[\"Group\"] == \"Max\", 'Purchase'])\n",
    "print('Test Stat = %.4f, p-value = %.4f' % (tstat, pvalue))"
   ]
  },
  {
   "cell_type": "markdown",
   "id": "f70ce491",
   "metadata": {},
   "source": [
    "Since the p value is not less than 0.05, the assumption of variance is provided.\n",
    "\n",
    "Both assumptions are provided (the distribution was Normal + Variance is Homogeneous) so, we will use parametric T-test using ttest_ind from scipy.stats lib"
   ]
  },
  {
   "cell_type": "markdown",
   "id": "b200c7a6",
   "metadata": {},
   "source": [
    "### 5.3 Independent two-sample t-test (parametric test)"
   ]
  },
  {
   "cell_type": "code",
   "execution_count": 16,
   "id": "bdaff34b",
   "metadata": {},
   "outputs": [
    {
     "name": "stdout",
     "output_type": "stream",
     "text": [
      "Test Stat = 0.9416, p-value = 0.3493\n"
     ]
    }
   ],
   "source": [
    "test_stat, pvalue = ttest_ind(df.loc[df[\"Group\"] == \"Avg\", 'Purchase'],\n",
    "                           df.loc[df[\"Group\"] == \"Max\", 'Purchase'],\n",
    "                              equal_var=True) # false if the assumption of homogeneity of variance is not satisfied.\n",
    "\n",
    "print('Test Stat = %.4f, p-value = %.4f' % (test_stat, pvalue))"
   ]
  },
  {
   "cell_type": "markdown",
   "id": "5b24a206",
   "metadata": {},
   "source": [
    "p-value > 0.05 (H0 not rejected). Our H0 was:\n",
    "\n",
    "H0: M1 = M2\n",
    "\n",
    "H0: There is no statistically significant difference between the average purchase earned, by the maximum bidding strategy and the average bidding strategy.\n",
    "\n",
    "So, There is no statistically significant purchase difference between, maximum and average bidding types."
   ]
  },
  {
   "cell_type": "markdown",
   "id": "4f90e398",
   "metadata": {},
   "source": [
    "#### Bonus: mannwhitneyu test if assumptions are not provided (non-parametric test)"
   ]
  },
  {
   "cell_type": "code",
   "execution_count": 17,
   "id": "fd07215d",
   "metadata": {},
   "outputs": [
    {
     "name": "stdout",
     "output_type": "stream",
     "text": [
      "Test Stat = 877.0000, p-value = 0.4617\n"
     ]
    }
   ],
   "source": [
    "test_stat, pvalue = mannwhitneyu(df.loc[df[\"Group\"] == \"Avg\", 'Purchase'],\n",
    "                           df.loc[df[\"Group\"] == \"Max\", 'Purchase'])\n",
    "\n",
    "print('Test Stat = %.4f, p-value = %.4f' % (test_stat, pvalue))"
   ]
  },
  {
   "cell_type": "markdown",
   "id": "56cc0e74",
   "metadata": {},
   "source": [
    "Hope it will be useful :)\n",
    "\n",
    "[Linkedin](https://www.linkedin.com/in/demir-zumrut/)"
   ]
  }
 ],
 "metadata": {
  "kernelspec": {
   "display_name": "Python 3 (ipykernel)",
   "language": "python",
   "name": "python3"
  },
  "language_info": {
   "codemirror_mode": {
    "name": "ipython",
    "version": 3
   },
   "file_extension": ".py",
   "mimetype": "text/x-python",
   "name": "python",
   "nbconvert_exporter": "python",
   "pygments_lexer": "ipython3",
   "version": "3.9.7"
  }
 },
 "nbformat": 4,
 "nbformat_minor": 5
}
